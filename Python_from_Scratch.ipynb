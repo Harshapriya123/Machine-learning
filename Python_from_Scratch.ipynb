{
  "nbformat": 4,
  "nbformat_minor": 0,
  "metadata": {
    "colab": {
      "name": "Python_from_Scratch.ipynb",
      "provenance": [],
      "toc_visible": true,
      "authorship_tag": "ABX9TyOEYy1DwhBSvttXo4kFHJCZ",
      "include_colab_link": true
    },
    "kernelspec": {
      "name": "python3",
      "display_name": "Python 3"
    }
  },
  "cells": [
    {
      "cell_type": "markdown",
      "metadata": {
        "id": "view-in-github",
        "colab_type": "text"
      },
      "source": [
        "<a href=\"https://colab.research.google.com/github/Harshapriya123/Machine-learning/blob/master/Python_from_Scratch.ipynb\" target=\"_parent\"><img src=\"https://colab.research.google.com/assets/colab-badge.svg\" alt=\"Open In Colab\"/></a>"
      ]
    },
    {
      "cell_type": "code",
      "metadata": {
        "id": "DDHhdXfID_TY",
        "colab_type": "code",
        "colab": {}
      },
      "source": [
        "#Python for Professionals -Source: iPhone Books\n",
        "#Python is a widely used high level programming used for general purpose programming language by Guido van Rossum\n",
        "#Python features a dynamic type system and automatic memory management system and supports multiple programming paradigms\n"
      ],
      "execution_count": 0,
      "outputs": []
    },
    {
      "cell_type": "code",
      "metadata": {
        "id": "IPsqISSLFHLm",
        "colab_type": "code",
        "colab": {
          "base_uri": "https://localhost:8080/",
          "height": 51
        },
        "outputId": "2f35f7dc-3570-4888-ae66-b2b4a324f333"
      },
      "source": [
        "print (\"Hello\")\n",
        "print ('Hello')"
      ],
      "execution_count": 2,
      "outputs": [
        {
          "output_type": "stream",
          "text": [
            "Hello\n",
            "Hello\n"
          ],
          "name": "stdout"
        }
      ]
    },
    {
      "cell_type": "code",
      "metadata": {
        "id": "yggCN272FavI",
        "colab_type": "code",
        "colab": {
          "base_uri": "https://localhost:8080/",
          "height": 119
        },
        "outputId": "2a76c7f3-8f90-4b8c-87dc-75d21a41c134"
      },
      "source": [
        "#Creating a variable and assigning values \n",
        "# SYNTAX : <variable name> = <value>\n",
        "\n",
        "#Integer\n",
        "a = 2\n",
        "print ('Integer',a)\n",
        "\n",
        "#Floating Point\n",
        "pi = 3.14\n",
        "print ('Floating Point',pi)\n",
        "\n",
        "#String\n",
        "c = 'A'\n",
        "print ('Character', c)\n",
        "\n",
        "#Boolean\n",
        "q = True\n",
        "print ('Boolean',q)\n",
        "\n",
        "#Empty Value or Null data type\n",
        "x = None\n",
        "print ('Empty Value',x)\n",
        "\n",
        "#Printing data types\n",
        "print('Data type of a',type(a))"
      ],
      "execution_count": 22,
      "outputs": [
        {
          "output_type": "stream",
          "text": [
            "Integer 2\n",
            "Floating Point 3.14\n",
            "Character A\n",
            "Boolean True\n",
            "Empty Value None\n",
            "Data type of a <class 'int'>\n"
          ],
          "name": "stdout"
        }
      ]
    },
    {
      "cell_type": "code",
      "metadata": {
        "id": "2bFLTjOZPM5L",
        "colab_type": "code",
        "colab": {
          "base_uri": "https://localhost:8080/",
          "height": 51
        },
        "outputId": "8182d90b-3dd9-4fc1-bffe-36aa14cde90b"
      },
      "source": [
        "#Rules for naming the variables\n",
        "x = True\n",
        "print (x)\n",
        "\n",
        "_y = False\n",
        "print (_y)\n",
        "\n",
        "#Invaid syntax \n",
        "#9x = True\n",
        "#print (9x)\n",
        "#$y = False"
      ],
      "execution_count": 20,
      "outputs": [
        {
          "output_type": "stream",
          "text": [
            "True\n",
            "False\n"
          ],
          "name": "stdout"
        }
      ]
    },
    {
      "cell_type": "code",
      "metadata": {
        "id": "00_jJXChLVb2",
        "colab_type": "code",
        "colab": {
          "base_uri": "https://localhost:8080/",
          "height": 54
        },
        "outputId": "78c6fcbd-ea17-4ef8-e6cf-542255efa450"
      },
      "source": [
        "import keyword \n",
        "print ('keywords',keyword.kwlist)"
      ],
      "execution_count": 13,
      "outputs": [
        {
          "output_type": "stream",
          "text": [
            "keywords ['False', 'None', 'True', 'and', 'as', 'assert', 'break', 'class', 'continue', 'def', 'del', 'elif', 'else', 'except', 'finally', 'for', 'from', 'global', 'if', 'import', 'in', 'is', 'lambda', 'nonlocal', 'not', 'or', 'pass', 'raise', 'return', 'try', 'while', 'with', 'yield']\n"
          ],
          "name": "stdout"
        }
      ]
    },
    {
      "cell_type": "code",
      "metadata": {
        "id": "jWc3c868PF6Q",
        "colab_type": "code",
        "colab": {}
      },
      "source": [
        ""
      ],
      "execution_count": 0,
      "outputs": []
    }
  ]
}